{
 "cells": [
  {
   "cell_type": "code",
   "execution_count": 5,
   "id": "796eed40",
   "metadata": {},
   "outputs": [],
   "source": [
    "import tensorflow as tf\n",
    "import numpy as np\n",
    "import matplotlib.pyplot as plt\n",
    "from tqdm import trange\n",
    "from affine import *"
   ]
  },
  {
   "cell_type": "code",
   "execution_count": 2,
   "id": "f831511e",
   "metadata": {},
   "outputs": [],
   "source": [
    "# simulate data (lognormal population prior + gaussian noise)\n",
    "\n",
    "# set-up\n",
    "mu_ = 1.0\n",
    "logsigma_ = tf.math.log(0.5)\n",
    "logsigma_noise_ = tf.math.log(1.0)\n",
    "n_latent = 1000\n",
    "\n",
    "# simulate\n",
    "logx_ = tf.random.normal([n_latent, 1], mu_, tf.exp(logsigma_)) # latent parameters ~ lognormal\n",
    "x_ = tf.exp(logx_)\n",
    "y_ = x_ + tf.random.normal([n_latent, 1], 0., tf.exp(logsigma_noise_)) # add gaussian noise to observations"
   ]
  },
  {
   "cell_type": "code",
   "execution_count": 3,
   "id": "1d7a9d25",
   "metadata": {},
   "outputs": [],
   "source": [
    "# create walkers...\n",
    "\n",
    "n_hyper_walkers = 100\n",
    "n_latent_walkers = 100\n",
    "\n",
    "# initialize latent parameter walkers\n",
    "latent_init_mean = logx_\n",
    "latent_init_sigma = 0.1\n",
    "latent_walkers_1 = latent_init_mean + tf.random.normal([n_latent_walkers] + latent_init_mean.shape, 0., latent_init_sigma)\n",
    "latent_walkers_2 = latent_init_mean + tf.random.normal([n_latent_walkers] + latent_init_mean.shape, 0., latent_init_sigma)\n",
    "\n",
    "# initialize hyperparameter walkers\n",
    "hyper_init_mean = tf.concat([mu_, logsigma_], axis=0)\n",
    "hyper_init_sigma = 0.1\n",
    "hyper_walkers_1 = hyper_init_mean + tf.random.normal([n_hyper_walkers] + hyper_init_mean.shape, 0., hyper_init_sigma)\n",
    "hyper_walkers_2 = hyper_init_mean + tf.random.normal([n_hyper_walkers] + hyper_init_mean.shape, 0., hyper_init_sigma)\n",
    "\n",
    "# set current states (REMEMBER: two sets, so that affine stretch moves can be parallelized)\n",
    "latent_current_state = [latent_walkers_1, latent_walkers_2]\n",
    "hyper_current_state = [hyper_walkers_1, hyper_walkers_2]\n",
    "\n",
    "# create conditional densities\n",
    "def log_hyperparameter_conditional(hyperparameters, latentparameters):\n",
    "    \n",
    "    # split hyper-parameters\n",
    "    mu, logsigma = tf.split(hyperparameters, (1,1), axis=-1)\n",
    "    \n",
    "    # log latent parameters\n",
    "    logx = latentparameters\n",
    "    \n",
    "    # log pdf\n",
    "    #return tf.stack([tf.reduce_sum(-0.5 * tf.square(tf.divide(tf.subtract(mu[_,:], logx), tf.exp(logsigma[_,:]) )) - logsigma[_,:]) for _ in range(mu.shape[0])], axis=0)\n",
    "    return tf.reduce_sum(tf.reduce_sum(-0.5 * tf.square(tf.divide(tf.subtract(tf.expand_dims(mu, axis=1), logx), tf.exp(tf.expand_dims(logsigma, axis=1)) )) - tf.expand_dims(logsigma, axis=1), axis=-1), axis=-1)\n",
    "\n",
    "def log_latentparameter_conditional(latentparameters, hyperparameters, data):\n",
    "    \n",
    "    # split hyper-parameters\n",
    "    mu, logsigma = tf.split(hyperparameters, (1,1), axis=-1)\n",
    "    \n",
    "    # log latent parameters\n",
    "    logx = latentparameters\n",
    "    x = tf.exp(latentparameters)\n",
    "    \n",
    "    # log pdf\n",
    "    logprior = tf.squeeze(-0.5 * tf.square(tf.divide(tf.subtract(mu, logx), tf.exp(logsigma) )) - logsigma)\n",
    "    loglikelihood = tf.squeeze(-0.5 * tf.square(tf.divide(tf.subtract(data, x), tf.exp(logsigma_noise_) )) - logsigma_noise_)\n",
    "    \n",
    "    return logprior + loglikelihood"
   ]
  },
  {
   "cell_type": "code",
   "execution_count": 6,
   "id": "f277e4c8",
   "metadata": {},
   "outputs": [
    {
     "name": "stderr",
     "output_type": "stream",
     "text": [
      "100%|██████████| 100/100 [00:16<00:00,  6.15it/s]\n"
     ]
    }
   ],
   "source": [
    "n_steps = 100\n",
    "n_sub_steps = 10\n",
    "\n",
    "hyper_chain = []\n",
    "latent_chain = []\n",
    "\n",
    "with trange(n_steps) as t:\n",
    "    for step in t:\n",
    "    \n",
    "        # sample hyper-parameter conditional\n",
    "        hyper_samples_ = affine_sample(log_hyperparameter_conditional, n_sub_steps, hyper_current_state, args=[latent_current_state[np.random.randint(0, 2)][np.random.randint(0, n_latent_walkers),...]], progressbar=False)\n",
    "        hyper_current_state = tf.split(hyper_samples_[-1,...], (n_hyper_walkers, n_hyper_walkers), axis=0)\n",
    "\n",
    "        # sample the latent parameter conditional\n",
    "        latent_samples_ = affine_sample_batch(log_latentparameter_conditional, n_sub_steps, latent_current_state, args=[hyper_current_state[np.random.randint(0, 2)][np.random.randint(0, n_hyper_walkers),...], y_], progressbar=False)\n",
    "        latent_current_state = tf.split(latent_samples_[-1,...], (n_hyper_walkers, n_hyper_walkers), axis=0)\n",
    "        \n",
    "        # collect samples\n",
    "        hyper_chain.append(tf.concat(hyper_current_state, axis=0))\n",
    "        latent_chain.append(tf.concat(latent_current_state, axis=0))\n",
    "        \n",
    "# stack chains\n",
    "hyper_chain = tf.stack(hyper_chain, axis=0)\n",
    "latent_chain = tf.stack(latent_chain, axis=0)"
   ]
  },
  {
   "cell_type": "code",
   "execution_count": 7,
   "id": "8f1667d5",
   "metadata": {},
   "outputs": [
    {
     "data": {
      "image/png": "[encoded data removed]",
      "text/plain": [
       "<Figure size 432x288 with 1 Axes>"
      ]
     },
     "metadata": {
      "needs_background": "light"
     },
     "output_type": "display_data"
    },
    {
     "data": {
      "image/png": "[encoded data removed]",
      "text/plain": [
       "<Figure size 432x288 with 1 Axes>"
      ]
     },
     "metadata": {
      "needs_background": "light"
     },
     "output_type": "display_data"
    }
   ],
   "source": [
    "plt.hist(hyper_chain[50:,:,0].numpy().flatten(), bins = 50, alpha = 0.5)\n",
    "plt.axvline(mu_, ls = '--')\n",
    "plt.show()\n",
    "\n",
    "plt.hist(np.exp(hyper_chain[50:,:,1].numpy().flatten()), bins = 50, alpha = 0.5)\n",
    "plt.axvline(np.exp(logsigma_), ls = '--')\n",
    "plt.show()"
   ]
  },
  {
   "cell_type": "markdown",
   "id": "6099db98",
   "metadata": {},
   "source": [
    "Same as above but batched over latent variables"
   ]
  },
  {
   "cell_type": "code",
   "execution_count": 9,
   "id": "4c7320ad",
   "metadata": {},
   "outputs": [
    {
     "name": "stderr",
     "output_type": "stream",
     "text": [
      "100%|██████████| 100/100 [01:00<00:00,  1.65it/s]\n"
     ]
    }
   ],
   "source": [
    "n_steps = 100\n",
    "n_sub_steps = 10\n",
    "\n",
    "hyper_chain = []\n",
    "latent_chain = []\n",
    "\n",
    "# set up batching of latent parameters\n",
    "latent_batch_size = 64\n",
    "n_latent_batches = n_latent // latent_batch_size + int( (n_latent % latent_batch_size) > 0)\n",
    "batch_indices = [np.arange(latent_batch_size*i, min(latent_batch_size*(i+1), n_latent)) for i in range(n_latent_batches)]\n",
    "\n",
    "# main loop\n",
    "with trange(n_steps) as t:\n",
    "    for step in t:\n",
    "    \n",
    "        # sample hyper-parameters, conditioned on latent parameters\n",
    "        hyper_samples_ = affine_sample(log_hyperparameter_conditional, n_sub_steps, hyper_current_state, args=[latent_current_state[np.random.randint(0, 2)][np.random.randint(0, n_latent_walkers),...]], progressbar=False)\n",
    "        hyper_current_state = tf.split(hyper_samples_[-1,...], (n_hyper_walkers, n_hyper_walkers), axis=0)\n",
    "\n",
    "        # sample latent parameters, conditioned on hyper-parameters (do it in batches and concatenate them together)\n",
    "        latent_samples_ = tf.concat([affine_sample_batch(log_latentparameter_conditional, \n",
    "                                                         n_sub_steps, \n",
    "                                                         [tf.gather(latent_current_state[0], batch_indices[_], axis=1), tf.gather(latent_current_state[1], batch_indices[_], axis=1)], \n",
    "                                                         args=[hyper_current_state[np.random.randint(0, 2)][np.random.randint(0, n_hyper_walkers),...], tf.gather(y_, batch_indices[_], axis=0)],\n",
    "                                                         progressbar=False) for _ in range(n_latent_batches)], axis=2)\n",
    "        latent_current_state = tf.split(latent_samples_[-1,...], (n_hyper_walkers, n_hyper_walkers), axis=0)\n",
    "        \n",
    "        # append samples to the chains\n",
    "        hyper_chain.append(tf.concat(hyper_current_state, axis=0))\n",
    "        latent_chain.append(tf.concat(latent_current_state, axis=0))\n",
    "        \n",
    "# stack the chains\n",
    "hyper_chain = tf.stack(hyper_chain, axis=0)\n",
    "latent_chain = tf.stack(latent_chain, axis=0)"
   ]
  },
  {
   "cell_type": "code",
   "execution_count": 10,
   "id": "50c470a8",
   "metadata": {},
   "outputs": [
    {
     "data": {
      "image/png": "[encoded data removed]",
      "text/plain": [
       "<Figure size 432x288 with 1 Axes>"
      ]
     },
     "metadata": {
      "needs_background": "light"
     },
     "output_type": "display_data"
    },
    {
     "data": {
      "image/png": "[encoded data removed]",
      "text/plain": [
       "<Figure size 432x288 with 1 Axes>"
      ]
     },
     "metadata": {
      "needs_background": "light"
     },
     "output_type": "display_data"
    }
   ],
   "source": [
    "plt.hist(hyper_chain[50:,:,0].numpy().flatten(), bins = 50, alpha = 0.5)\n",
    "plt.axvline(mu_, ls = '--')\n",
    "plt.show()\n",
    "\n",
    "plt.hist(np.exp(hyper_chain[50:,:,1].numpy().flatten()), bins = 50, alpha = 0.5)\n",
    "plt.axvline(np.exp(logsigma_), ls = '--')\n",
    "plt.show()"
   ]
  }
 ],
 "metadata": {
  "kernelspec": {
   "display_name": "Python 3",
   "language": "python",
   "name": "python3"
  },
  "language_info": {
   "codemirror_mode": {
    "name": "ipython",
    "version": 3
   },
   "file_extension": ".py",
   "mimetype": "text/x-python",
   "name": "python",
   "nbconvert_exporter": "python",
   "pygments_lexer": "ipython3",
   "version": "3.8.6"
  }
 },
 "nbformat": 4,
 "nbformat_minor": 5
}
